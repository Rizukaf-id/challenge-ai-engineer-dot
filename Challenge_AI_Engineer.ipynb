{
  "nbformat": 4,
  "nbformat_minor": 0,
  "metadata": {
    "colab": {
      "provenance": [],
      "authorship_tag": "ABX9TyOvTvUBeWBNEElXqR3xMyRb",
      "include_colab_link": true
    },
    "kernelspec": {
      "name": "python3",
      "display_name": "Python 3"
    },
    "language_info": {
      "name": "python"
    }
  },
  "cells": [
    {
      "cell_type": "markdown",
      "metadata": {
        "id": "view-in-github",
        "colab_type": "text"
      },
      "source": [
        "<a href=\"https://colab.research.google.com/github/Rizukaf-id/challenge-ai-engineer-dot/blob/main/Challenge_AI_Engineer.ipynb\" target=\"_parent\"><img src=\"https://colab.research.google.com/assets/colab-badge.svg\" alt=\"Open In Colab\"/></a>"
      ]
    },
    {
      "cell_type": "markdown",
      "source": [
        "# Challenge AI Engineer\n",
        "oleh Rizka Fiddiyansyah"
      ],
      "metadata": {
        "id": "YUsqdBsQwDPA"
      }
    },
    {
      "cell_type": "markdown",
      "source": [
        "## Bagian 1: Praktik Pemrograman (Python dan Google Colab)"
      ],
      "metadata": {
        "id": "RgKvTstcwOGX"
      }
    },
    {
      "cell_type": "markdown",
      "source": [
        "### Soal 1.b: Aplikasi Chatbot FAQ melalui CLI/Terminal"
      ],
      "metadata": {
        "id": "9JAgakAsI5r2"
      }
    },
    {
      "cell_type": "markdown",
      "source": [
        "#### import library"
      ],
      "metadata": {
        "id": "0s6Qoblbwzvk"
      }
    },
    {
      "cell_type": "code",
      "source": [
        "import re\n",
        "import torch\n",
        "from transformers import AutoTokenizer, AutoModel"
      ],
      "metadata": {
        "id": "7vBfErCiwg7P"
      },
      "execution_count": 3,
      "outputs": []
    },
    {
      "cell_type": "markdown",
      "source": [
        "#### Load faq.txt"
      ],
      "metadata": {
        "id": "UmNQTKNvw2uG"
      }
    },
    {
      "cell_type": "code",
      "source": [
        "!wget https://raw.githubusercontent.com/Rizukaf-id/challenge-ai-engineer-dot/refs/heads/main/faq.txt -O faq.txt"
      ],
      "metadata": {
        "colab": {
          "base_uri": "https://localhost:8080/"
        },
        "id": "ymVewYI5vwYo",
        "outputId": "f3a9730c-d886-422d-e4d7-54e783bb9ebc"
      },
      "execution_count": 14,
      "outputs": [
        {
          "output_type": "stream",
          "name": "stdout",
          "text": [
            "--2025-05-21 13:25:29--  https://raw.githubusercontent.com/Rizukaf-id/challenge-ai-engineer-dot/refs/heads/main/faq.txt\n",
            "Resolving raw.githubusercontent.com (raw.githubusercontent.com)... 185.199.108.133, 185.199.109.133, 185.199.110.133, ...\n",
            "Connecting to raw.githubusercontent.com (raw.githubusercontent.com)|185.199.108.133|:443... connected.\n",
            "HTTP request sent, awaiting response... 200 OK\n",
            "Length: 2955 (2.9K) [text/plain]\n",
            "Saving to: ‘faq.txt’\n",
            "\n",
            "\rfaq.txt               0%[                    ]       0  --.-KB/s               \rfaq.txt             100%[===================>]   2.89K  --.-KB/s    in 0s      \n",
            "\n",
            "2025-05-21 13:25:30 (35.3 MB/s) - ‘faq.txt’ saved [2955/2955]\n",
            "\n"
          ]
        }
      ]
    },
    {
      "cell_type": "code",
      "source": [
        "with open('faq.txt', 'r', encoding='utf-8') as f:\n",
        "    faq_raw = f.read().strip()\n",
        "\n",
        "faq = re.findall(\n",
        "    r'Q\\s*[:：]\\s*(.+?)\\s*A\\s*[:：]\\s*(.+?)(?=(?:\\nQ[:：]|$))',\n",
        "    faq_raw, flags=re.DOTALL | re.IGNORECASE\n",
        ")\n",
        "faq = [(q.strip().replace('\\n', ' '), a.strip().replace('\\n', ' ')) for q, a in faq if q and a]\n",
        "\n",
        "if not faq:\n",
        "    print('FAQ kosong! Pastikan format FAQ.txt: Q: ... A: ...')\n",
        "    exit(1)"
      ],
      "metadata": {
        "id": "5BucpFXVwvTN"
      },
      "execution_count": 33,
      "outputs": []
    },
    {
      "cell_type": "markdown",
      "source": [
        "#### Load Model"
      ],
      "metadata": {
        "id": "Oo3wwkKyxK8u"
      }
    },
    {
      "cell_type": "code",
      "source": [
        "model_name = 'sentence-transformers/all-MiniLM-L6-v2'\n",
        "tokenizer = AutoTokenizer.from_pretrained(model_name)\n",
        "model = AutoModel.from_pretrained(model_name)"
      ],
      "metadata": {
        "id": "yxYIpHdyxNwm"
      },
      "execution_count": 34,
      "outputs": []
    },
    {
      "cell_type": "markdown",
      "source": [
        "#### Alasan Pemilihan Model `sentence-transformers/all-MiniLM-L6-v2` untuk Chatbot FAQ\n",
        "\n",
        "Dalam pembuatan chatbot FAQ ini, model **[sentence-transformers/all-MiniLM-L6-v2](https://huggingface.co/sentence-transformers/all-MiniLM-L6-v2)** dipilih daripada model-model besar seperti Llama, Gemma, Phi, atau OpenChat. Hal ini didasarkan pada beberapa pertimbangan utama, terutama terkait efisiensi, kecepatan, dan keterbatasan sumber daya pada layanan gratis Google Colab.\n",
        "\n",
        "Model MiniLM-L6-v2 memiliki ukuran yang jauh lebih kecil dan ringan dibandingkan large language model (LLM) generatif di atas, sehingga dapat berjalan dengan lancar di lingkungan dengan memori dan kapasitas komputasi terbatas tanpa memerlukan GPU besar. Selain itu, MiniLM-L6-v2 memang dirancang dan dioptimalkan khusus untuk menghasilkan embedding kalimat yang akurat, sangat ideal untuk kasus penggunaan chatbot berbasis pencocokan makna (semantic search) seperti ini. Dengan menggunakan MiniLM-L6-v2, chatbot dapat memberikan hasil pencarian jawaban yang relevan secara semantik dengan waktu respons yang cepat dan konsumsi resource yang minimal, sehingga sangat sesuai untuk implementasi di Google Colab gratis yang sering kali memiliki pembatasan RAM, CPU, dan runtime."
      ],
      "metadata": {
        "id": "hqr90Tk1FCK3"
      }
    },
    {
      "cell_type": "markdown",
      "source": [
        "#### Build App"
      ],
      "metadata": {
        "id": "sNI9WLutzFW0"
      }
    },
    {
      "cell_type": "code",
      "source": [
        "def get_embedding(text):\n",
        "  encoded_input = tokenizer(text, padding=True, truncation=True, return_tensors='pt')\n",
        "\n",
        "  with torch.no_grad():\n",
        "    model_output = model(**encoded_input)\n",
        "\n",
        "  token_embeddings = model_output.last_hidden_state\n",
        "  attention_mask = encoded_input['attention_mask']\n",
        "  input_mask_expanded = attention_mask.unsqueeze(-1).expand(token_embeddings.size()).float()\n",
        "  sum_embeddings = torch.sum(token_embeddings * input_mask_expanded, 1)\n",
        "  sum_mask = torch.clamp(input_mask_expanded.sum(1), min=1e-9)\n",
        "  return (sum_embeddings / sum_mask).squeeze(0)\n",
        "\n",
        "\n",
        "# precompute FAQ embeddings\n",
        "faq_questions = [q for q, a in faq]\n",
        "faq_embeddings = torch.stack([get_embedding(q) for q in faq_questions])\n",
        "\n",
        "def ans_question(query, cossim_threshold=0.72):\n",
        "  query_embedding = get_embedding(query)\n",
        "\n",
        "  # hitung cosine similarity\n",
        "  similarities = torch.nn.functional.cosine_similarity(query_embedding.unsqueeze(0), faq_embeddings)\n",
        "  top_score, top_idx = torch.max(similarities, dim=0)\n",
        "  top_score = top_score.item()\n",
        "  top_idx = top_idx.item()\n",
        "\n",
        "  # print(f\"[DEBUG] Similarity: {top_score:.3f}\")\n",
        "\n",
        "  if top_score >= cossim_threshold:\n",
        "    return faq[top_idx][1]\n",
        "  else:\n",
        "    return 'Maaf, saya tidak dapat membantu dengan pertanyaan itu.'\n",
        "\n",
        "def chat():\n",
        "  print(\"📚 Chatbot Kursus Coding Anak\")\n",
        "  print(\"Ketik pertanyaan anda, atau ketik 'exit' untuk keluar.\\n\")\n",
        "\n",
        "  while True:\n",
        "    query = input('👤 : ')\n",
        "    if query.lower() in ['exit', 'quit', 'keluar']:\n",
        "      break\n",
        "    answer = ans_question(query)\n",
        "    print('🤖 : ', answer)"
      ],
      "metadata": {
        "id": "3Z-kayt9zIka"
      },
      "execution_count": 35,
      "outputs": []
    },
    {
      "cell_type": "markdown",
      "source": [
        "**Fungsi get_embedding**\n",
        "   - Mengubah teks menjadi embedding vektor menggunakan model.\n",
        "   - Embedding ini digunakan untuk mengukur kemiripan antar kalimat.\n",
        "\n",
        "**Precompute FAQ Embeddings**\n",
        "   - Semua pertanyaan FAQ diubah menjadi embedding dan disimpan dalam tensor.\n",
        "   - Mempercepat pencarian jawaban karena tidak perlu menghitung ulang embedding setiap kali ada pertanyaan.\n",
        "\n",
        "**Fungsi ans_question**\n",
        "   - Menerima pertanyaan user, mengubahnya menjadi embedding, lalu menghitung cosine similarity dengan semua embedding pertanyaan FAQ.\n",
        "   - Jawaban dengan kemiripan tertinggi diambil jika melewati threshold tertentu (0.72), jika tidak chatbot akan menjawab \"Maaf, saya tidak dapat membantu dengan pertanyaan itu.\"."
      ],
      "metadata": {
        "id": "QNGqP-uFHSZ9"
      }
    },
    {
      "cell_type": "markdown",
      "source": [
        "#### Run APP"
      ],
      "metadata": {
        "id": "_ZKm0--n_N6t"
      }
    },
    {
      "cell_type": "code",
      "source": [
        "chat()"
      ],
      "metadata": {
        "colab": {
          "base_uri": "https://localhost:8080/"
        },
        "id": "B80M7YZb_Nje",
        "outputId": "4de47d82-25fa-408b-df1c-0a7fe0cfceeb"
      },
      "execution_count": 36,
      "outputs": [
        {
          "name": "stdout",
          "output_type": "stream",
          "text": [
            "📚 Chatbot Kursus Coding Anak\n",
            "Ketik pertanyaan anda, atau ketik 'exit' untuk keluar.\n",
            "\n",
            "👤 : apa itu kursus koding?\n",
            "[DEBUG] Similarity: 0.779\n",
            "🤖 :  Layanan kursus koding untuk anak-anak adalah program edukasi yang mengenalkan dunia pemrograman secara menyenangkan dan interaktif untuk anak usia 7 hingga 15 tahun. Kami menggunakan pendekatan bermain sambil belajar agar anak-anak mudah memahami konsep teknologi.\n",
            "👤 : exit\n"
          ]
        }
      ]
    },
    {
      "cell_type": "markdown",
      "source": [
        "## Bagian 2: Teori AI"
      ],
      "metadata": {
        "id": "FmTaVLD4wT13"
      }
    },
    {
      "cell_type": "markdown",
      "source": [
        "### Soal 2: Pertanyaan Teori Dasar"
      ],
      "metadata": {
        "id": "6PbxTuvwH58P"
      }
    },
    {
      "cell_type": "markdown",
      "source": [
        "#### a. Apa yang dimaksud dengan Artificial Intelligence (AI)? Sebutkan dua contohnya dalam kehidupan sehari-hari."
      ],
      "metadata": {
        "id": "Pa8XD15LIAj-"
      }
    },
    {
      "cell_type": "markdown",
      "source": [
        "Bla bla"
      ],
      "metadata": {
        "id": "kZLCaFI1IOrv"
      }
    },
    {
      "cell_type": "markdown",
      "source": [
        "#### b. Apa perbedaan antara Supervised Learning dan Unsupervised Learning? Berikan satu contoh untuk masing-masing."
      ],
      "metadata": {
        "id": "SR0TM-4gILAq"
      }
    },
    {
      "cell_type": "markdown",
      "source": [
        "bla bla"
      ],
      "metadata": {
        "id": "JPDd1ucYISU7"
      }
    },
    {
      "cell_type": "markdown",
      "source": [
        "### Soal 3: Pertanyaan Konsep"
      ],
      "metadata": {
        "id": "63hAt-8BH8CR"
      }
    },
    {
      "cell_type": "markdown",
      "source": [
        "#### a. Apa itu Feature dalam konteks machine learning? Mengapa penting untuk memilih fitur yang tepat saat membangun model?"
      ],
      "metadata": {
        "id": "LBksAcifIUjG"
      }
    },
    {
      "cell_type": "markdown",
      "source": [
        "blaafjawef"
      ],
      "metadata": {
        "id": "_wlqdHhoIbYu"
      }
    },
    {
      "cell_type": "markdown",
      "source": [
        "#### b. Apa itu Fine-tuning dalam machine learning? Sebutkan satu kasus di mana fine-tuning berguna."
      ],
      "metadata": {
        "id": "8pw2tw-MIXjW"
      }
    },
    {
      "cell_type": "markdown",
      "source": [
        "asdf;ahdfh"
      ],
      "metadata": {
        "id": "gCHpogBRId3D"
      }
    },
    {
      "cell_type": "code",
      "source": [],
      "metadata": {
        "id": "fG7qwzIDIXEt"
      },
      "execution_count": null,
      "outputs": []
    }
  ]
}